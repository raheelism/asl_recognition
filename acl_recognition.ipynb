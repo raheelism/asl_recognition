{
  "nbformat": 4,
  "nbformat_minor": 0,
  "metadata": {
    "colab": {
      "provenance": [],
      "authorship_tag": "ABX9TyPbBYQIl//FtlGNM0YNv32h",
      "include_colab_link": true
    },
    "kernelspec": {
      "name": "python3",
      "display_name": "Python 3"
    },
    "language_info": {
      "name": "python"
    }
  },
  "cells": [
    {
      "cell_type": "markdown",
      "metadata": {
        "id": "view-in-github",
        "colab_type": "text"
      },
      "source": [
        "<a href=\"https://colab.research.google.com/github/theinshort/asl_recognition/blob/main/acl_recognition.ipynb\" target=\"_parent\"><img src=\"https://colab.research.google.com/assets/colab-badge.svg\" alt=\"Open In Colab\"/></a>"
      ]
    },
    {
      "cell_type": "code",
      "execution_count": null,
      "metadata": {
        "id": "56E78yTTFM6X"
      },
      "outputs": [],
      "source": [
        "import numpy as np\n",
        "import tensorflow as tf\n",
        "from datasets import sign_language\n",
        "import matplotlib.pyplot as plt\n",
        "from keras.utils import np_utils\n",
        "from keras.layers import Conv2D, MaxPooling2D, Flatten, Dense\n",
        "from keras.models import Sequential\n"
      ]
    },
    {
      "cell_type": "code",
      "source": [
        "\n",
        "# Set random seeds for reproducibility\n",
        "np.random.seed(5)\n",
        "tf.random.set_seed(2)\n"
      ],
      "metadata": {
        "id": "dn30iz04FT7r"
      },
      "execution_count": null,
      "outputs": []
    },
    {
      "cell_type": "code",
      "source": [
        "\n",
        "# Load pre-shuffled training and test datasets\n",
        "(x_train, y_train), (x_test, y_test) = sign_language.load_data()\n"
      ],
      "metadata": {
        "id": "phNmr0vYFXT0"
      },
      "execution_count": null,
      "outputs": []
    },
    {
      "cell_type": "code",
      "source": [
        "\n",
        "# Visualize the training data\n",
        "labels = ['A', 'B', 'C']\n",
        "fig = plt.figure(figsize=(20, 5))\n",
        "for i in range(36):\n",
        "    ax = fig.add_subplot(3, 12, i + 1, xticks=[], yticks=[])\n",
        "    ax.imshow(np.squeeze(x_train[i]))\n",
        "    ax.set_title(labels[y_train[i]])\n",
        "plt.show()\n"
      ],
      "metadata": {
        "id": "AfXdJq16FbHs"
      },
      "execution_count": null,
      "outputs": []
    },
    {
      "cell_type": "code",
      "source": [
        "\n",
        "# Examine the dataset\n",
        "num_A_train = np.sum(y_train == 0)\n",
        "num_B_train = np.sum(y_train == 1)\n",
        "num_C_train = np.sum(y_train == 2)\n",
        "num_A_test = np.sum(y_test == 0)\n",
        "num_B_test = np.sum(y_test == 1)\n",
        "num_C_test = np.sum(y_test == 2)\n",
        "\n",
        "print(\"Training set:\")\n",
        "print(f\"\\tA: {num_A_train}, B: {num_B_train}, C: {num_C_train}\")\n",
        "print(\"Test set:\")\n",
        "print(f\"\\tA: {num_A_test}, B: {num_B_test}, C: {num_C_test}\")\n"
      ],
      "metadata": {
        "id": "GEt0ucuYFeYa"
      },
      "execution_count": null,
      "outputs": []
    },
    {
      "cell_type": "code",
      "source": [
        "\n",
        "# One-hot encode the data\n",
        "y_train_OH = np_utils.to_categorical(y_train, 3)\n",
        "y_test_OH = np_utils.to_categorical(y_test, 3)\n"
      ],
      "metadata": {
        "id": "SPRTLJswFhnQ"
      },
      "execution_count": null,
      "outputs": []
    },
    {
      "cell_type": "code",
      "source": [
        "\n",
        "# Define the model\n",
        "model = Sequential([\n",
        "    Conv2D(filters=5, kernel_size=5, padding='same', activation='relu', input_shape=(50, 50, 3)),\n",
        "    MaxPooling2D(pool_size=4),\n",
        "    Conv2D(filters=15, kernel_size=5, padding='same', activation='relu'),\n",
        "    MaxPooling2D(pool_size=4),\n",
        "    Flatten(),\n",
        "    Dense(3, activation='softmax')\n",
        "])\n"
      ],
      "metadata": {
        "id": "pq6YrxXYFj7_"
      },
      "execution_count": null,
      "outputs": []
    },
    {
      "cell_type": "code",
      "source": [
        "\n",
        "# Compile the model\n",
        "model.compile(optimizer='rmsprop', loss='categorical_crossentropy', metrics=['accuracy'])\n"
      ],
      "metadata": {
        "id": "uOwm0dnxFltx"
      },
      "execution_count": null,
      "outputs": []
    },
    {
      "cell_type": "code",
      "source": [
        "\n",
        "# Train the model\n",
        "hist = model.fit(x_train, y_train_OH, validation_split=0.2, epochs=2, batch_size=32)\n"
      ],
      "metadata": {
        "id": "DDPl5GUaFniO"
      },
      "execution_count": null,
      "outputs": []
    },
    {
      "cell_type": "code",
      "source": [
        "\n",
        "# Test the model\n",
        "score = model.evaluate(x_test, y_test_OH, verbose=0)\n",
        "print(f'Test accuracy: {score[1]}')\n"
      ],
      "metadata": {
        "id": "vBCPrL_cFo6e"
      },
      "execution_count": null,
      "outputs": []
    },
    {
      "cell_type": "code",
      "source": [
        "\n",
        "# Visualize Errors\n",
        "y_probs = model.predict(x_test)\n",
        "y_preds = np.argmax(y_probs, axis=1)\n",
        "bad_test_idxs = np.where(y_test != y_preds)[0]\n",
        "\n",
        "fig = plt.figure(figsize=(25, 4))\n",
        "for i, idx in enumerate(bad_test_idxs):\n",
        "    ax = fig.add_subplot(2, np.ceil(len(bad_test_idxs) / 2), i + 1, xticks=[], yticks=[])\n",
        "    ax.imshow(np.squeeze(x_test[idx]))\n",
        "    ax.set_title(f\"{labels[y_test[idx]]} (pred: {labels[y_preds[idx]]})\")\n",
        "plt.show()"
      ],
      "metadata": {
        "id": "roG_4kOeFqOR"
      },
      "execution_count": null,
      "outputs": []
    }
  ]
}